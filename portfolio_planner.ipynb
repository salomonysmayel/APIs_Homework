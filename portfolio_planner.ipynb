{
 "cells": [
  {
   "cell_type": "code",
   "execution_count": 95,
   "metadata": {},
   "outputs": [],
   "source": [
    "import os\n",
    "import numpy as np\n",
    "import pandas as pd\n",
    "from datetime import datetime, timedelta\n",
    "import matplotlib.pyplot as plt\n",
    "from iexfinance.refdata import get_symbols\n",
    "%matplotlib inline"
   ]
  },
  {
   "cell_type": "code",
   "execution_count": 96,
   "metadata": {},
   "outputs": [],
   "source": [
    "np.random.seed(42)"
   ]
  },
  {
   "cell_type": "markdown",
   "metadata": {},
   "source": [
    "# Portfolio Planner\n",
    "\n",
    "In this activity, you will use the iedfinance api to grab historical data for a 60/40 portfolio using `SPY` to represent the stock portion and `AGG` to represent the bonds."
   ]
  },
  {
   "cell_type": "code",
   "execution_count": 100,
   "metadata": {},
   "outputs": [],
   "source": [
    "from iexfinance.stocks import get_historical_data\n",
    "import iexfinance as iex"
   ]
  },
  {
   "cell_type": "code",
   "execution_count": null,
   "metadata": {},
   "outputs": [],
   "source": []
  },
  {
   "cell_type": "markdown",
   "metadata": {},
   "source": [
    "# Data Collection\n",
    "\n",
    "In this step, you will need to use the IEX api to fetch closing prices for the `SPY` and `AGG` tickers. Save the results as a pandas DataFrame"
   ]
  },
  {
   "cell_type": "code",
   "execution_count": 127,
   "metadata": {},
   "outputs": [
    {
     "data": {
      "text/html": [
       "<div>\n",
       "<style scoped>\n",
       "    .dataframe tbody tr th:only-of-type {\n",
       "        vertical-align: middle;\n",
       "    }\n",
       "\n",
       "    .dataframe tbody tr th {\n",
       "        vertical-align: top;\n",
       "    }\n",
       "\n",
       "    .dataframe thead th {\n",
       "        text-align: right;\n",
       "    }\n",
       "</style>\n",
       "<table border=\"1\" class=\"dataframe\">\n",
       "  <thead>\n",
       "    <tr style=\"text-align: right;\">\n",
       "      <th></th>\n",
       "      <th>symbol</th>\n",
       "      <th>exchange</th>\n",
       "      <th>name</th>\n",
       "      <th>date</th>\n",
       "      <th>type</th>\n",
       "      <th>iexId</th>\n",
       "      <th>region</th>\n",
       "      <th>currency</th>\n",
       "      <th>isEnabled</th>\n",
       "    </tr>\n",
       "  </thead>\n",
       "  <tbody>\n",
       "    <tr>\n",
       "      <td>0</td>\n",
       "      <td>A</td>\n",
       "      <td>NYS</td>\n",
       "      <td>Agilent Technologies Inc.</td>\n",
       "      <td>2019-10-01</td>\n",
       "      <td>cs</td>\n",
       "      <td>IEX_46574843354B2D52</td>\n",
       "      <td>US</td>\n",
       "      <td>USD</td>\n",
       "      <td>True</td>\n",
       "    </tr>\n",
       "    <tr>\n",
       "      <td>1</td>\n",
       "      <td>AA</td>\n",
       "      <td>NYS</td>\n",
       "      <td>Alcoa Corp.</td>\n",
       "      <td>2019-10-01</td>\n",
       "      <td>cs</td>\n",
       "      <td>IEX_4238333734532D52</td>\n",
       "      <td>US</td>\n",
       "      <td>USD</td>\n",
       "      <td>True</td>\n",
       "    </tr>\n",
       "    <tr>\n",
       "      <td>2</td>\n",
       "      <td>AAAU</td>\n",
       "      <td>PSE</td>\n",
       "      <td>Perth Mint Physical Gold ETF</td>\n",
       "      <td>2019-10-01</td>\n",
       "      <td>et</td>\n",
       "      <td>IEX_474B433136332D52</td>\n",
       "      <td>US</td>\n",
       "      <td>USD</td>\n",
       "      <td>True</td>\n",
       "    </tr>\n",
       "    <tr>\n",
       "      <td>3</td>\n",
       "      <td>AABA</td>\n",
       "      <td>NAS</td>\n",
       "      <td>Altaba Inc.</td>\n",
       "      <td>2019-10-01</td>\n",
       "      <td>cef</td>\n",
       "      <td>IEX_4E5434354A302D52</td>\n",
       "      <td>US</td>\n",
       "      <td>USD</td>\n",
       "      <td>True</td>\n",
       "    </tr>\n",
       "    <tr>\n",
       "      <td>4</td>\n",
       "      <td>AAC</td>\n",
       "      <td>NYS</td>\n",
       "      <td>AAC Holdings Inc.</td>\n",
       "      <td>2019-10-01</td>\n",
       "      <td>cs</td>\n",
       "      <td>IEX_4843364642592D52</td>\n",
       "      <td>US</td>\n",
       "      <td>USD</td>\n",
       "      <td>True</td>\n",
       "    </tr>\n",
       "  </tbody>\n",
       "</table>\n",
       "</div>"
      ],
      "text/plain": [
       "  symbol exchange                          name        date type  \\\n",
       "0      A      NYS     Agilent Technologies Inc.  2019-10-01   cs   \n",
       "1     AA      NYS                   Alcoa Corp.  2019-10-01   cs   \n",
       "2   AAAU      PSE  Perth Mint Physical Gold ETF  2019-10-01   et   \n",
       "3   AABA      NAS                   Altaba Inc.  2019-10-01  cef   \n",
       "4    AAC      NYS             AAC Holdings Inc.  2019-10-01   cs   \n",
       "\n",
       "                  iexId region currency  isEnabled  \n",
       "0  IEX_46574843354B2D52     US      USD       True  \n",
       "1  IEX_4238333734532D52     US      USD       True  \n",
       "2  IEX_474B433136332D52     US      USD       True  \n",
       "3  IEX_4E5434354A302D52     US      USD       True  \n",
       "4  IEX_4843364642592D52     US      USD       True  "
      ]
     },
     "execution_count": 127,
     "metadata": {},
     "output_type": "execute_result"
    }
   ],
   "source": [
    "list_of_tickers = [\"SPY\", \"AGG\"]\n",
    "end_date = datetime.now()\n",
    "start_date = end_date + timedelta(-365)\n",
    "iex_token = os.getenv(\"IEX_TOKEN\")\n",
    "tickers=pd.DataFrame(get_symbols(output_format='pandas', token=iex_token))\n",
    "tickers.head()"
   ]
  },
  {
   "cell_type": "code",
   "execution_count": 128,
   "metadata": {},
   "outputs": [
    {
     "data": {
      "text/html": [
       "<div>\n",
       "<style scoped>\n",
       "    .dataframe tbody tr th:only-of-type {\n",
       "        vertical-align: middle;\n",
       "    }\n",
       "\n",
       "    .dataframe tbody tr th {\n",
       "        vertical-align: top;\n",
       "    }\n",
       "\n",
       "    .dataframe thead tr th {\n",
       "        text-align: left;\n",
       "    }\n",
       "\n",
       "    .dataframe thead tr:last-of-type th {\n",
       "        text-align: right;\n",
       "    }\n",
       "</style>\n",
       "<table border=\"1\" class=\"dataframe\">\n",
       "  <thead>\n",
       "    <tr>\n",
       "      <th></th>\n",
       "      <th colspan=\"5\" halign=\"left\">SPY</th>\n",
       "      <th colspan=\"5\" halign=\"left\">AGG</th>\n",
       "    </tr>\n",
       "    <tr>\n",
       "      <th></th>\n",
       "      <th>open</th>\n",
       "      <th>high</th>\n",
       "      <th>low</th>\n",
       "      <th>close</th>\n",
       "      <th>volume</th>\n",
       "      <th>open</th>\n",
       "      <th>high</th>\n",
       "      <th>low</th>\n",
       "      <th>close</th>\n",
       "      <th>volume</th>\n",
       "    </tr>\n",
       "    <tr>\n",
       "      <th>date</th>\n",
       "      <th></th>\n",
       "      <th></th>\n",
       "      <th></th>\n",
       "      <th></th>\n",
       "      <th></th>\n",
       "      <th></th>\n",
       "      <th></th>\n",
       "      <th></th>\n",
       "      <th></th>\n",
       "      <th></th>\n",
       "    </tr>\n",
       "  </thead>\n",
       "  <tbody>\n",
       "    <tr>\n",
       "      <td>2018-10-01</td>\n",
       "      <td>292.11</td>\n",
       "      <td>292.93</td>\n",
       "      <td>290.98</td>\n",
       "      <td>291.73</td>\n",
       "      <td>62078937</td>\n",
       "      <td>105.35</td>\n",
       "      <td>105.35</td>\n",
       "      <td>105.20</td>\n",
       "      <td>105.24</td>\n",
       "      <td>3517615</td>\n",
       "    </tr>\n",
       "    <tr>\n",
       "      <td>2018-10-02</td>\n",
       "      <td>291.56</td>\n",
       "      <td>292.36</td>\n",
       "      <td>291.14</td>\n",
       "      <td>291.56</td>\n",
       "      <td>47258227</td>\n",
       "      <td>105.32</td>\n",
       "      <td>105.46</td>\n",
       "      <td>105.25</td>\n",
       "      <td>105.36</td>\n",
       "      <td>6912595</td>\n",
       "    </tr>\n",
       "    <tr>\n",
       "      <td>2018-10-03</td>\n",
       "      <td>292.74</td>\n",
       "      <td>293.21</td>\n",
       "      <td>291.32</td>\n",
       "      <td>291.72</td>\n",
       "      <td>64694594</td>\n",
       "      <td>105.22</td>\n",
       "      <td>105.24</td>\n",
       "      <td>104.75</td>\n",
       "      <td>104.86</td>\n",
       "      <td>2540483</td>\n",
       "    </tr>\n",
       "    <tr>\n",
       "      <td>2018-10-04</td>\n",
       "      <td>291.18</td>\n",
       "      <td>291.24</td>\n",
       "      <td>287.66</td>\n",
       "      <td>289.44</td>\n",
       "      <td>111545910</td>\n",
       "      <td>104.65</td>\n",
       "      <td>104.72</td>\n",
       "      <td>104.47</td>\n",
       "      <td>104.56</td>\n",
       "      <td>5268197</td>\n",
       "    </tr>\n",
       "    <tr>\n",
       "      <td>2018-10-05</td>\n",
       "      <td>289.69</td>\n",
       "      <td>290.27</td>\n",
       "      <td>286.22</td>\n",
       "      <td>287.82</td>\n",
       "      <td>105951698</td>\n",
       "      <td>104.46</td>\n",
       "      <td>104.48</td>\n",
       "      <td>104.19</td>\n",
       "      <td>104.33</td>\n",
       "      <td>3460512</td>\n",
       "    </tr>\n",
       "  </tbody>\n",
       "</table>\n",
       "</div>"
      ],
      "text/plain": [
       "               SPY                                        AGG                  \\\n",
       "              open    high     low   close     volume    open    high     low   \n",
       "date                                                                            \n",
       "2018-10-01  292.11  292.93  290.98  291.73   62078937  105.35  105.35  105.20   \n",
       "2018-10-02  291.56  292.36  291.14  291.56   47258227  105.32  105.46  105.25   \n",
       "2018-10-03  292.74  293.21  291.32  291.72   64694594  105.22  105.24  104.75   \n",
       "2018-10-04  291.18  291.24  287.66  289.44  111545910  104.65  104.72  104.47   \n",
       "2018-10-05  289.69  290.27  286.22  287.82  105951698  104.46  104.48  104.19   \n",
       "\n",
       "                             \n",
       "             close   volume  \n",
       "date                         \n",
       "2018-10-01  105.24  3517615  \n",
       "2018-10-02  105.36  6912595  \n",
       "2018-10-03  104.86  2540483  \n",
       "2018-10-04  104.56  5268197  \n",
       "2018-10-05  104.33  3460512  "
      ]
     },
     "execution_count": 128,
     "metadata": {},
     "output_type": "execute_result"
    }
   ],
   "source": [
    "df = get_historical_data(list_of_tickers, start_date, end_date,  output_format='pandas')\n",
    "df.head()"
   ]
  },
  {
   "cell_type": "code",
   "execution_count": 129,
   "metadata": {},
   "outputs": [
    {
     "data": {
      "text/html": [
       "<div>\n",
       "<style scoped>\n",
       "    .dataframe tbody tr th:only-of-type {\n",
       "        vertical-align: middle;\n",
       "    }\n",
       "\n",
       "    .dataframe tbody tr th {\n",
       "        vertical-align: top;\n",
       "    }\n",
       "\n",
       "    .dataframe thead tr th {\n",
       "        text-align: left;\n",
       "    }\n",
       "\n",
       "    .dataframe thead tr:last-of-type th {\n",
       "        text-align: right;\n",
       "    }\n",
       "</style>\n",
       "<table border=\"1\" class=\"dataframe\">\n",
       "  <thead>\n",
       "    <tr>\n",
       "      <th></th>\n",
       "      <th>SPY</th>\n",
       "      <th>AGG</th>\n",
       "    </tr>\n",
       "    <tr>\n",
       "      <th></th>\n",
       "      <th>close</th>\n",
       "      <th>close</th>\n",
       "    </tr>\n",
       "    <tr>\n",
       "      <th>date</th>\n",
       "      <th></th>\n",
       "      <th></th>\n",
       "    </tr>\n",
       "  </thead>\n",
       "  <tbody>\n",
       "    <tr>\n",
       "      <td>2019-09-24</td>\n",
       "      <td>295.87</td>\n",
       "      <td>113.28</td>\n",
       "    </tr>\n",
       "    <tr>\n",
       "      <td>2019-09-25</td>\n",
       "      <td>297.62</td>\n",
       "      <td>112.81</td>\n",
       "    </tr>\n",
       "    <tr>\n",
       "      <td>2019-09-26</td>\n",
       "      <td>297.00</td>\n",
       "      <td>113.00</td>\n",
       "    </tr>\n",
       "    <tr>\n",
       "      <td>2019-09-27</td>\n",
       "      <td>295.40</td>\n",
       "      <td>113.14</td>\n",
       "    </tr>\n",
       "    <tr>\n",
       "      <td>2019-09-30</td>\n",
       "      <td>296.77</td>\n",
       "      <td>113.17</td>\n",
       "    </tr>\n",
       "  </tbody>\n",
       "</table>\n",
       "</div>"
      ],
      "text/plain": [
       "               SPY     AGG\n",
       "             close   close\n",
       "date                      \n",
       "2019-09-24  295.87  113.28\n",
       "2019-09-25  297.62  112.81\n",
       "2019-09-26  297.00  113.00\n",
       "2019-09-27  295.40  113.14\n",
       "2019-09-30  296.77  113.17"
      ]
     },
     "execution_count": 129,
     "metadata": {},
     "output_type": "execute_result"
    }
   ],
   "source": [
    "df.drop(columns=['open', 'high', 'low', 'volume'], level=1, inplace=True)\n",
    "df.tail()"
   ]
  },
  {
   "cell_type": "markdown",
   "metadata": {},
   "source": [
    "# Monte Carlo Simulation\n",
    "\n",
    "In this step, you will run Monte Carlo Simulations for your portfolio to model portfolio performance at different retirement ages. \n",
    "\n",
    "Complete the following steps:\n",
    "1. Calculate the daily returns for the SPY and AGG closing prices.\n",
    "2. Calculate volatility for both the SPY and AGG closing prices.\n",
    "3. Find the last day's closing price for both stocks and save those as variables.\n",
    "4. Run a Monte Carlo Simulation of at least 100 iterations and generate at least 20 years of closing prices\n",
    "\n",
    "### HINTS:\n",
    "There are 252 trading days per year, so the number of records to generate for each Monte Carlo run will be 252 days * 20 years"
   ]
  },
  {
   "cell_type": "code",
   "execution_count": 130,
   "metadata": {},
   "outputs": [
    {
     "data": {
      "text/html": [
       "<div>\n",
       "<style scoped>\n",
       "    .dataframe tbody tr th:only-of-type {\n",
       "        vertical-align: middle;\n",
       "    }\n",
       "\n",
       "    .dataframe tbody tr th {\n",
       "        vertical-align: top;\n",
       "    }\n",
       "\n",
       "    .dataframe thead tr th {\n",
       "        text-align: left;\n",
       "    }\n",
       "\n",
       "    .dataframe thead tr:last-of-type th {\n",
       "        text-align: right;\n",
       "    }\n",
       "</style>\n",
       "<table border=\"1\" class=\"dataframe\">\n",
       "  <thead>\n",
       "    <tr>\n",
       "      <th></th>\n",
       "      <th>SPY</th>\n",
       "      <th>AGG</th>\n",
       "    </tr>\n",
       "    <tr>\n",
       "      <th></th>\n",
       "      <th>close</th>\n",
       "      <th>close</th>\n",
       "    </tr>\n",
       "    <tr>\n",
       "      <th>date</th>\n",
       "      <th></th>\n",
       "      <th></th>\n",
       "    </tr>\n",
       "  </thead>\n",
       "  <tbody>\n",
       "    <tr>\n",
       "      <td>2018-10-01</td>\n",
       "      <td>NaN</td>\n",
       "      <td>NaN</td>\n",
       "    </tr>\n",
       "    <tr>\n",
       "      <td>2018-10-02</td>\n",
       "      <td>-0.000583</td>\n",
       "      <td>0.001140</td>\n",
       "    </tr>\n",
       "    <tr>\n",
       "      <td>2018-10-03</td>\n",
       "      <td>0.000549</td>\n",
       "      <td>-0.004746</td>\n",
       "    </tr>\n",
       "    <tr>\n",
       "      <td>2018-10-04</td>\n",
       "      <td>-0.007816</td>\n",
       "      <td>-0.002861</td>\n",
       "    </tr>\n",
       "    <tr>\n",
       "      <td>2018-10-05</td>\n",
       "      <td>-0.005597</td>\n",
       "      <td>-0.002200</td>\n",
       "    </tr>\n",
       "  </tbody>\n",
       "</table>\n",
       "</div>"
      ],
      "text/plain": [
       "                 SPY       AGG\n",
       "               close     close\n",
       "date                          \n",
       "2018-10-01       NaN       NaN\n",
       "2018-10-02 -0.000583  0.001140\n",
       "2018-10-03  0.000549 -0.004746\n",
       "2018-10-04 -0.007816 -0.002861\n",
       "2018-10-05 -0.005597 -0.002200"
      ]
     },
     "execution_count": 130,
     "metadata": {},
     "output_type": "execute_result"
    }
   ],
   "source": [
    "# Calculate the daily roi for the stocks\n",
    "daily_returns = df.pct_change()\n",
    "daily_returns.head()"
   ]
  },
  {
   "cell_type": "code",
   "execution_count": 131,
   "metadata": {},
   "outputs": [
    {
     "data": {
      "text/plain": [
       "0.00012473913038652017"
      ]
     },
     "execution_count": 131,
     "metadata": {},
     "output_type": "execute_result"
    }
   ],
   "source": [
    "avg_daily_return_SPY = daily_returns.mean()['SPY']['close']\n",
    "avg_daily_return_AGG = daily_returns.mean()['AGG']['close']\n",
    "avg_daily_return_AGG\n",
    "avg_daily_return_SPY"
   ]
  },
  {
   "cell_type": "code",
   "execution_count": 132,
   "metadata": {},
   "outputs": [
    {
     "data": {
      "text/plain": [
       "0.0019596660724796587"
      ]
     },
     "execution_count": 132,
     "metadata": {},
     "output_type": "execute_result"
    }
   ],
   "source": [
    "# Calculate volatility\n",
    "std_dev_daily_return_SPY = daily_returns.std()['SPY']['close']\n",
    "std_dev_daily_return_AGG = daily_returns.std()['AGG']['close']\n",
    "std_dev_daily_return_AGG"
   ]
  },
  {
   "cell_type": "code",
   "execution_count": 133,
   "metadata": {},
   "outputs": [
    {
     "name": "stdout",
     "output_type": "stream",
     "text": [
      "113.17\n",
      "296.77\n"
     ]
    }
   ],
   "source": [
    "# Save the last day's closing price\n",
    "SPY_last_price = df['SPY']['close'][-1]\n",
    "AGG_last_price = df['AGG']['close'][-1]\n",
    "print(AGG_last_price)\n",
    "print(SPY_last_price)"
   ]
  },
  {
   "cell_type": "code",
   "execution_count": 134,
   "metadata": {},
   "outputs": [],
   "source": [
    "# Setup the Monte Carlo Parameters\n",
    "num_simulations = 500\n",
    "number_records = 252 * 30\n",
    "simulated_price_df = pd.DataFrame()\n",
    "portfolio_cumulative_returns = pd.DataFrame()"
   ]
  },
  {
   "cell_type": "code",
   "execution_count": 135,
   "metadata": {},
   "outputs": [
    {
     "data": {
      "text/html": [
       "<div>\n",
       "<style scoped>\n",
       "    .dataframe tbody tr th:only-of-type {\n",
       "        vertical-align: middle;\n",
       "    }\n",
       "\n",
       "    .dataframe tbody tr th {\n",
       "        vertical-align: top;\n",
       "    }\n",
       "\n",
       "    .dataframe thead th {\n",
       "        text-align: right;\n",
       "    }\n",
       "</style>\n",
       "<table border=\"1\" class=\"dataframe\">\n",
       "  <thead>\n",
       "    <tr style=\"text-align: right;\">\n",
       "      <th></th>\n",
       "      <th>0</th>\n",
       "      <th>1</th>\n",
       "      <th>2</th>\n",
       "      <th>3</th>\n",
       "      <th>4</th>\n",
       "      <th>5</th>\n",
       "      <th>6</th>\n",
       "      <th>7</th>\n",
       "      <th>8</th>\n",
       "      <th>9</th>\n",
       "      <th>...</th>\n",
       "      <th>490</th>\n",
       "      <th>491</th>\n",
       "      <th>492</th>\n",
       "      <th>493</th>\n",
       "      <th>494</th>\n",
       "      <th>495</th>\n",
       "      <th>496</th>\n",
       "      <th>497</th>\n",
       "      <th>498</th>\n",
       "      <th>499</th>\n",
       "    </tr>\n",
       "  </thead>\n",
       "  <tbody>\n",
       "    <tr>\n",
       "      <td>0</td>\n",
       "      <td>1.000000</td>\n",
       "      <td>1.000000</td>\n",
       "      <td>1.000000</td>\n",
       "      <td>1.000000</td>\n",
       "      <td>1.000000</td>\n",
       "      <td>1.000000</td>\n",
       "      <td>1.000000</td>\n",
       "      <td>1.000000</td>\n",
       "      <td>1.000000</td>\n",
       "      <td>1.000000</td>\n",
       "      <td>...</td>\n",
       "      <td>1.000000</td>\n",
       "      <td>1.000000</td>\n",
       "      <td>1.000000</td>\n",
       "      <td>1.000000</td>\n",
       "      <td>1.000000</td>\n",
       "      <td>1.000000</td>\n",
       "      <td>1.000000</td>\n",
       "      <td>1.000000</td>\n",
       "      <td>1.000000</td>\n",
       "      <td>1.000000</td>\n",
       "    </tr>\n",
       "    <tr>\n",
       "      <td>1</td>\n",
       "      <td>1.001693</td>\n",
       "      <td>1.000057</td>\n",
       "      <td>0.994713</td>\n",
       "      <td>0.999211</td>\n",
       "      <td>1.003744</td>\n",
       "      <td>0.995083</td>\n",
       "      <td>0.998551</td>\n",
       "      <td>1.007589</td>\n",
       "      <td>1.008237</td>\n",
       "      <td>1.008539</td>\n",
       "      <td>...</td>\n",
       "      <td>0.988051</td>\n",
       "      <td>1.007154</td>\n",
       "      <td>1.006862</td>\n",
       "      <td>0.995760</td>\n",
       "      <td>0.995499</td>\n",
       "      <td>1.001701</td>\n",
       "      <td>1.017162</td>\n",
       "      <td>1.001976</td>\n",
       "      <td>0.995953</td>\n",
       "      <td>0.995949</td>\n",
       "    </tr>\n",
       "    <tr>\n",
       "      <td>2</td>\n",
       "      <td>0.997089</td>\n",
       "      <td>0.989707</td>\n",
       "      <td>0.991446</td>\n",
       "      <td>0.995928</td>\n",
       "      <td>1.013949</td>\n",
       "      <td>0.994821</td>\n",
       "      <td>0.993967</td>\n",
       "      <td>1.008987</td>\n",
       "      <td>1.023269</td>\n",
       "      <td>1.008628</td>\n",
       "      <td>...</td>\n",
       "      <td>0.980695</td>\n",
       "      <td>1.009313</td>\n",
       "      <td>1.015577</td>\n",
       "      <td>0.988437</td>\n",
       "      <td>1.001539</td>\n",
       "      <td>1.000983</td>\n",
       "      <td>1.017891</td>\n",
       "      <td>1.007255</td>\n",
       "      <td>1.003492</td>\n",
       "      <td>0.997055</td>\n",
       "    </tr>\n",
       "    <tr>\n",
       "      <td>3</td>\n",
       "      <td>0.994468</td>\n",
       "      <td>0.988232</td>\n",
       "      <td>0.990006</td>\n",
       "      <td>0.992802</td>\n",
       "      <td>1.013538</td>\n",
       "      <td>0.998321</td>\n",
       "      <td>0.998855</td>\n",
       "      <td>1.006132</td>\n",
       "      <td>1.031588</td>\n",
       "      <td>1.009648</td>\n",
       "      <td>...</td>\n",
       "      <td>0.977394</td>\n",
       "      <td>1.011646</td>\n",
       "      <td>1.021887</td>\n",
       "      <td>0.985827</td>\n",
       "      <td>0.994092</td>\n",
       "      <td>1.011009</td>\n",
       "      <td>1.022053</td>\n",
       "      <td>1.004481</td>\n",
       "      <td>1.007686</td>\n",
       "      <td>0.997696</td>\n",
       "    </tr>\n",
       "    <tr>\n",
       "      <td>4</td>\n",
       "      <td>0.996878</td>\n",
       "      <td>0.988057</td>\n",
       "      <td>0.996980</td>\n",
       "      <td>1.000744</td>\n",
       "      <td>1.013448</td>\n",
       "      <td>1.007315</td>\n",
       "      <td>0.998970</td>\n",
       "      <td>1.011218</td>\n",
       "      <td>1.034125</td>\n",
       "      <td>1.006771</td>\n",
       "      <td>...</td>\n",
       "      <td>0.969742</td>\n",
       "      <td>0.999728</td>\n",
       "      <td>1.021018</td>\n",
       "      <td>0.981049</td>\n",
       "      <td>0.993180</td>\n",
       "      <td>1.008778</td>\n",
       "      <td>1.022503</td>\n",
       "      <td>1.000465</td>\n",
       "      <td>0.996183</td>\n",
       "      <td>0.993766</td>\n",
       "    </tr>\n",
       "    <tr>\n",
       "      <td>5</td>\n",
       "      <td>1.004821</td>\n",
       "      <td>0.985664</td>\n",
       "      <td>0.991924</td>\n",
       "      <td>0.997470</td>\n",
       "      <td>1.014278</td>\n",
       "      <td>1.004606</td>\n",
       "      <td>1.008694</td>\n",
       "      <td>1.027038</td>\n",
       "      <td>1.030636</td>\n",
       "      <td>0.998458</td>\n",
       "      <td>...</td>\n",
       "      <td>0.974398</td>\n",
       "      <td>0.989147</td>\n",
       "      <td>1.018166</td>\n",
       "      <td>0.978222</td>\n",
       "      <td>0.997033</td>\n",
       "      <td>1.002237</td>\n",
       "      <td>1.025125</td>\n",
       "      <td>0.996249</td>\n",
       "      <td>0.998218</td>\n",
       "      <td>0.983829</td>\n",
       "    </tr>\n",
       "    <tr>\n",
       "      <td>6</td>\n",
       "      <td>1.011225</td>\n",
       "      <td>0.983438</td>\n",
       "      <td>0.986363</td>\n",
       "      <td>0.999443</td>\n",
       "      <td>1.019798</td>\n",
       "      <td>1.008735</td>\n",
       "      <td>1.011882</td>\n",
       "      <td>1.035035</td>\n",
       "      <td>1.028045</td>\n",
       "      <td>1.001883</td>\n",
       "      <td>...</td>\n",
       "      <td>0.974100</td>\n",
       "      <td>0.992500</td>\n",
       "      <td>1.016905</td>\n",
       "      <td>0.988951</td>\n",
       "      <td>0.991997</td>\n",
       "      <td>1.002523</td>\n",
       "      <td>1.021374</td>\n",
       "      <td>0.997121</td>\n",
       "      <td>0.989192</td>\n",
       "      <td>0.988006</td>\n",
       "    </tr>\n",
       "    <tr>\n",
       "      <td>7</td>\n",
       "      <td>1.020516</td>\n",
       "      <td>0.974932</td>\n",
       "      <td>0.983686</td>\n",
       "      <td>1.007966</td>\n",
       "      <td>1.020376</td>\n",
       "      <td>1.010928</td>\n",
       "      <td>1.015032</td>\n",
       "      <td>1.044188</td>\n",
       "      <td>1.027153</td>\n",
       "      <td>1.004608</td>\n",
       "      <td>...</td>\n",
       "      <td>0.974123</td>\n",
       "      <td>0.998417</td>\n",
       "      <td>1.010030</td>\n",
       "      <td>0.994756</td>\n",
       "      <td>1.004335</td>\n",
       "      <td>0.992106</td>\n",
       "      <td>1.023948</td>\n",
       "      <td>0.998136</td>\n",
       "      <td>0.999375</td>\n",
       "      <td>0.984849</td>\n",
       "    </tr>\n",
       "    <tr>\n",
       "      <td>8</td>\n",
       "      <td>1.023726</td>\n",
       "      <td>0.969852</td>\n",
       "      <td>0.984203</td>\n",
       "      <td>1.005921</td>\n",
       "      <td>1.014140</td>\n",
       "      <td>1.012463</td>\n",
       "      <td>1.014666</td>\n",
       "      <td>1.044707</td>\n",
       "      <td>1.039160</td>\n",
       "      <td>0.999904</td>\n",
       "      <td>...</td>\n",
       "      <td>0.962031</td>\n",
       "      <td>0.990395</td>\n",
       "      <td>1.012780</td>\n",
       "      <td>0.990656</td>\n",
       "      <td>0.999975</td>\n",
       "      <td>0.999510</td>\n",
       "      <td>1.015138</td>\n",
       "      <td>1.004872</td>\n",
       "      <td>0.996824</td>\n",
       "      <td>0.981424</td>\n",
       "    </tr>\n",
       "    <tr>\n",
       "      <td>9</td>\n",
       "      <td>1.021964</td>\n",
       "      <td>0.961160</td>\n",
       "      <td>0.988536</td>\n",
       "      <td>1.002375</td>\n",
       "      <td>1.014146</td>\n",
       "      <td>1.009474</td>\n",
       "      <td>1.009749</td>\n",
       "      <td>1.056268</td>\n",
       "      <td>1.028886</td>\n",
       "      <td>1.004524</td>\n",
       "      <td>...</td>\n",
       "      <td>0.967442</td>\n",
       "      <td>0.991621</td>\n",
       "      <td>1.017978</td>\n",
       "      <td>0.993203</td>\n",
       "      <td>1.009596</td>\n",
       "      <td>0.995251</td>\n",
       "      <td>1.016560</td>\n",
       "      <td>0.996871</td>\n",
       "      <td>0.987132</td>\n",
       "      <td>0.989224</td>\n",
       "    </tr>\n",
       "  </tbody>\n",
       "</table>\n",
       "<p>10 rows × 500 columns</p>\n",
       "</div>"
      ],
      "text/plain": [
       "        0         1         2         3         4         5         6    \\\n",
       "0  1.000000  1.000000  1.000000  1.000000  1.000000  1.000000  1.000000   \n",
       "1  1.001693  1.000057  0.994713  0.999211  1.003744  0.995083  0.998551   \n",
       "2  0.997089  0.989707  0.991446  0.995928  1.013949  0.994821  0.993967   \n",
       "3  0.994468  0.988232  0.990006  0.992802  1.013538  0.998321  0.998855   \n",
       "4  0.996878  0.988057  0.996980  1.000744  1.013448  1.007315  0.998970   \n",
       "5  1.004821  0.985664  0.991924  0.997470  1.014278  1.004606  1.008694   \n",
       "6  1.011225  0.983438  0.986363  0.999443  1.019798  1.008735  1.011882   \n",
       "7  1.020516  0.974932  0.983686  1.007966  1.020376  1.010928  1.015032   \n",
       "8  1.023726  0.969852  0.984203  1.005921  1.014140  1.012463  1.014666   \n",
       "9  1.021964  0.961160  0.988536  1.002375  1.014146  1.009474  1.009749   \n",
       "\n",
       "        7         8         9    ...       490       491       492       493  \\\n",
       "0  1.000000  1.000000  1.000000  ...  1.000000  1.000000  1.000000  1.000000   \n",
       "1  1.007589  1.008237  1.008539  ...  0.988051  1.007154  1.006862  0.995760   \n",
       "2  1.008987  1.023269  1.008628  ...  0.980695  1.009313  1.015577  0.988437   \n",
       "3  1.006132  1.031588  1.009648  ...  0.977394  1.011646  1.021887  0.985827   \n",
       "4  1.011218  1.034125  1.006771  ...  0.969742  0.999728  1.021018  0.981049   \n",
       "5  1.027038  1.030636  0.998458  ...  0.974398  0.989147  1.018166  0.978222   \n",
       "6  1.035035  1.028045  1.001883  ...  0.974100  0.992500  1.016905  0.988951   \n",
       "7  1.044188  1.027153  1.004608  ...  0.974123  0.998417  1.010030  0.994756   \n",
       "8  1.044707  1.039160  0.999904  ...  0.962031  0.990395  1.012780  0.990656   \n",
       "9  1.056268  1.028886  1.004524  ...  0.967442  0.991621  1.017978  0.993203   \n",
       "\n",
       "        494       495       496       497       498       499  \n",
       "0  1.000000  1.000000  1.000000  1.000000  1.000000  1.000000  \n",
       "1  0.995499  1.001701  1.017162  1.001976  0.995953  0.995949  \n",
       "2  1.001539  1.000983  1.017891  1.007255  1.003492  0.997055  \n",
       "3  0.994092  1.011009  1.022053  1.004481  1.007686  0.997696  \n",
       "4  0.993180  1.008778  1.022503  1.000465  0.996183  0.993766  \n",
       "5  0.997033  1.002237  1.025125  0.996249  0.998218  0.983829  \n",
       "6  0.991997  1.002523  1.021374  0.997121  0.989192  0.988006  \n",
       "7  1.004335  0.992106  1.023948  0.998136  0.999375  0.984849  \n",
       "8  0.999975  0.999510  1.015138  1.004872  0.996824  0.981424  \n",
       "9  1.009596  0.995251  1.016560  0.996871  0.987132  0.989224  \n",
       "\n",
       "[10 rows x 500 columns]"
      ]
     },
     "execution_count": 135,
     "metadata": {},
     "output_type": "execute_result"
    }
   ],
   "source": [
    "# Run the Monte Carlo Simulation\n",
    "for n in range(num_simulations):\n",
    "\n",
    "    \n",
    "    simulated_SPY_prices = [SPY_last_price]\n",
    "    simulated_AGG_prices = [AGG_last_price]\n",
    "    \n",
    "    \n",
    "    for i in range(number_records):\n",
    "        \n",
    "        \n",
    "        simulated_SPY_price = simulated_SPY_prices[-1] * (1 + np.random.normal(avg_daily_return_SPY, std_dev_daily_return_SPY))\n",
    "        simulated_AGG_price = simulated_AGG_prices[-1] * (1 + np.random.normal(avg_daily_return_AGG, std_dev_daily_return_AGG))\n",
    "        \n",
    "        \n",
    "        simulated_SPY_prices.append(simulated_SPY_price)\n",
    "        simulated_AGG_prices.append(simulated_AGG_price)\n",
    "    \n",
    "    \n",
    "    simulated_price_df[\"SPY prices\"] = pd.Series(simulated_SPY_prices)\n",
    "    simulated_price_df[\"AGG prices\"] = pd.Series(simulated_AGG_prices)\n",
    "    \n",
    "    \n",
    "    simulated_daily_returns = simulated_price_df.pct_change()\n",
    "    \n",
    "    \n",
    "    weights = [0.60, 0.40]\n",
    "\n",
    "    \n",
    "    portfolio_daily_returns = simulated_daily_returns.dot(weights)\n",
    "    \n",
    "    \n",
    "    portfolio_cumulative_returns[n] = (1 + portfolio_daily_returns.fillna(0)).cumprod()\n",
    "\n",
    "\n",
    "portfolio_cumulative_returns.head(10)    "
   ]
  },
  {
   "cell_type": "code",
   "execution_count": 136,
   "metadata": {},
   "outputs": [
    {
     "data": {
      "text/plain": [
       "<matplotlib.axes._subplots.AxesSubplot at 0x11baaf400>"
      ]
     },
     "execution_count": 136,
     "metadata": {},
     "output_type": "execute_result"
    },
    {
     "data": {
      "image/png": "[encoded data removed]",
      "text/plain": [
       "<Figure size 432x288 with 1 Axes>"
      ]
     },
     "metadata": {
      "needs_background": "light"
     },
     "output_type": "display_data"
    }
   ],
   "source": [
    "# Visualize the Simulation\n",
    "plot_title = f\"{n+1} Simulations of Cumulative Portfolio Return Trajectories Over the Next 30 years\"\n",
    "portfolio_cumulative_returns.plot(legend=None, title=plot_title)"
   ]
  },
  {
   "cell_type": "code",
   "execution_count": 137,
   "metadata": {},
   "outputs": [
    {
     "data": {
      "text/plain": [
       "495    5.804826\n",
       "496    2.855022\n",
       "497    3.668659\n",
       "498    3.678076\n",
       "499    5.999579\n",
       "Name: 7560, dtype: float64"
      ]
     },
     "execution_count": 137,
     "metadata": {},
     "output_type": "execute_result"
    }
   ],
   "source": [
    "# Select the last row for the cumulative returns (cumulative returns at 30 years)\n",
    "ending_cumulative_returns_30 = portfolio_cumulative_returns.iloc[-1, :]\n",
    "ending_cumulative_returns_30.tail()"
   ]
  },
  {
   "cell_type": "code",
   "execution_count": 140,
   "metadata": {},
   "outputs": [
    {
     "data": {
      "text/plain": [
       "0    3.321221\n",
       "1    1.622010\n",
       "2    6.502571\n",
       "3    2.850086\n",
       "4    2.405290\n",
       "Name: 5039, dtype: float64"
      ]
     },
     "execution_count": 140,
     "metadata": {},
     "output_type": "execute_result"
    }
   ],
   "source": [
    "# Select the last row for the cumulative returns (cumulative returns at 20 years)\n",
    "ending_cumulative_returns_20 = portfolio_cumulative_returns.iloc[5039]\n",
    "ending_cumulative_returns_20.head()"
   ]
  },
  {
   "cell_type": "code",
   "execution_count": 139,
   "metadata": {},
   "outputs": [
    {
     "data": {
      "text/plain": [
       "0.05    1.368476\n",
       "0.95    8.414893\n",
       "Name: 7560, dtype: float64"
      ]
     },
     "execution_count": 139,
     "metadata": {},
     "output_type": "execute_result"
    }
   ],
   "source": [
    "# Display the 90% confidence interval for the ending returns\n",
    "confidence_interval = ending_cumulative_returns_30.quantile(q=[0.05, 0.95])\n",
    "confidence_interval"
   ]
  },
  {
   "cell_type": "code",
   "execution_count": 141,
   "metadata": {},
   "outputs": [
    {
     "data": {
      "text/plain": [
       "<matplotlib.lines.Line2D at 0x11e6627f0>"
      ]
     },
     "execution_count": 141,
     "metadata": {},
     "output_type": "execute_result"
    },
    {
     "data": {
      "image/png": "[encoded data removed]",
      "text/plain": [
       "<Figure size 432x288 with 1 Axes>"
      ]
     },
     "metadata": {
      "needs_background": "light"
     },
     "output_type": "display_data"
    }
   ],
   "source": [
    "# Visualize the distribution of the ending returns\n",
    "plt.figure();\n",
    "ending_cumulative_returns_30.plot(kind='hist', density=True, bins=10)\n",
    "plt.axvline(confidence_interval.iloc[0], color='r')\n",
    "plt.axvline(confidence_interval.iloc[1], color='r')"
   ]
  },
  {
   "cell_type": "markdown",
   "metadata": {},
   "source": [
    "---"
   ]
  },
  {
   "cell_type": "markdown",
   "metadata": {},
   "source": [
    "# Retirement Analysis\n",
    "\n",
    "In this section, you will use the monte carlo model to answer the following retirement planning questions:\n",
    "\n",
    "1. What are the expected cumulative returns at 30 years for the 10th, 50th, and 90th percentiles?\n",
    "2. Given an initial investment of `$20,000`, what is the expected portfolio return in dollars at the 10th, 50th, and 90th percentiles?\n",
    "3. Given the current projected annual income from the Plaid analysis, will a 4% withdraw rate from the retirement portfolio meet or exceed that value at the 10th percentile?\n",
    "4. How would a 50% increase in the initial investment amount affect the 4% retirement withdrawal?"
   ]
  },
  {
   "cell_type": "markdown",
   "metadata": {},
   "source": [
    "### What are the expected cumulative returns at 30 years for the 10th, 50th, and 90th percentiles?"
   ]
  },
  {
   "cell_type": "code",
   "execution_count": 142,
   "metadata": {},
   "outputs": [
    {
     "name": "stdout",
     "output_type": "stream",
     "text": [
      "Expected cumulative returns at 30 years for the 10th percentile 1.6377228612969736\n"
     ]
    }
   ],
   "source": [
    "cu_ret_30_10th = ending_cumulative_returns_30.quantile(q=0.10)\n",
    "cu_ret_20_10th=ending_cumulative_returns_20.quantile(q=0.10)\n",
    "print(f\"Expected cumulative returns at 30 years for the 10th percentile {cu_ret_30_10th}\")"
   ]
  },
  {
   "cell_type": "code",
   "execution_count": 143,
   "metadata": {},
   "outputs": [
    {
     "name": "stdout",
     "output_type": "stream",
     "text": [
      "Expected cumulative returns at 30 years for the 50th percentile 3.7765701646226226\n"
     ]
    }
   ],
   "source": [
    "cu_ret_30_50th=ending_cumulative_returns_30.quantile(q=0.5)\n",
    "print(f\"Expected cumulative returns at 30 years for the 50th percentile {cu_ret_30_50th}\")\n"
   ]
  },
  {
   "cell_type": "code",
   "execution_count": 144,
   "metadata": {},
   "outputs": [
    {
     "name": "stdout",
     "output_type": "stream",
     "text": [
      "Expected cumulative returns at 30 years for the 90th percentile 6.88829773148299\n"
     ]
    }
   ],
   "source": [
    "cu_ret_30_90th=ending_cumulative_returns_30.quantile(q=0.9)\n",
    "print(f\"Expected cumulative returns at 30 years for the 90th percentile {cu_ret_30_90th}\")\n"
   ]
  },
  {
   "cell_type": "markdown",
   "metadata": {},
   "source": [
    "### Given an initial investment of `$20,000`, what is the expected portfolio return in dollars at the 10th, 50th, and 90th percentiles?"
   ]
  },
  {
   "cell_type": "code",
   "execution_count": 146,
   "metadata": {},
   "outputs": [
    {
     "name": "stdout",
     "output_type": "stream",
     "text": [
      "Expected portfolio return at the 10th, initial investment of $20,000 is =  $52754.45722593948\n"
     ]
    }
   ],
   "source": [
    "# YOUR CODE HERE\n",
    "initial_investment = 20000\n",
    "expect_ret_10th = initial_investment + (initial_investment * cu_ret_30_10th)\n",
    "print(f\"Expected portfolio return at the 10th, initial investment of $20,000 is =  ${expect_ret_10th}\")"
   ]
  },
  {
   "cell_type": "code",
   "execution_count": 147,
   "metadata": {},
   "outputs": [
    {
     "name": "stdout",
     "output_type": "stream",
     "text": [
      "Expected portfolio return at the 50th, initial investment of $20,000 is =  $95531.40329245245\n"
     ]
    }
   ],
   "source": [
    "expect_ret_50th = initial_investment + (initial_investment * cu_ret_30_50th)\n",
    "print(f\"Expected portfolio return at the 50th, initial investment of $20,000 is =  ${expect_ret_50th}\")"
   ]
  },
  {
   "cell_type": "code",
   "execution_count": 148,
   "metadata": {},
   "outputs": [
    {
     "name": "stdout",
     "output_type": "stream",
     "text": [
      "Expected portfolio return at the 90th, initial investment of $20,000 is =  $157765.9546296598\n"
     ]
    }
   ],
   "source": [
    "expect_ret_90th = initial_investment + (initial_investment * cu_ret_30_90th)\n",
    "print(f\"Expected portfolio return at the 90th, initial investment of $20,000 is =  ${expect_ret_90th}\")"
   ]
  },
  {
   "cell_type": "markdown",
   "metadata": {},
   "source": [
    "### Given the current projected annual income from the Plaid analysis, will a 4% withdraw rate from the retirement portfolio meet or exceed that value at the 10th percentile?\n",
    "\n",
    "Note: This is effectively saying that 90% of the expected returns will be greater than the return at the 10th percentile, so this can help measure the uncertainty about having enough funds at retirement"
   ]
  },
  {
   "cell_type": "code",
   "execution_count": 149,
   "metadata": {},
   "outputs": [
    {
     "name": "stdout",
     "output_type": "stream",
     "text": [
      "With 4% withdraw rate from the retirement portfolio, projected retirement annual income  $1913.6860494840018, which is bigger than projected year income of $6085  \n"
     ]
    }
   ],
   "source": [
    "expect_ret_10th_20=initial_investment + (initial_investment * cu_ret_20_10th)\n",
    "income_retirement_20 = expect_ret_10th_20*0.04\n",
    "print(f\"With 4% withdraw rate from the retirement portfolio, projected retirement annual income  ${income_retirement_20}, which is bigger than projected year income of $6085  \")"
   ]
  },
  {
   "cell_type": "markdown",
   "metadata": {},
   "source": [
    "### How would a 50% increase in the initial investment amount affect the 4% retirement withdrawal?"
   ]
  },
  {
   "cell_type": "code",
   "execution_count": 150,
   "metadata": {},
   "outputs": [
    {
     "name": "stdout",
     "output_type": "stream",
     "text": [
      "A 50% increase in the initial investment would generate a projected retirement annual income of $2870.529074226003. Which is bigger than the projected $1913.6860494840018\n"
     ]
    }
   ],
   "source": [
    "expect_ret_10th_20_50perc=initial_investment*1.5 + (initial_investment*1.5 * cu_ret_20_10th)\n",
    "income_retirement_20_50perc = expect_ret_10th_20_50perc*0.04\n",
    "print(f\"A 50% increase in the initial investment would generate a projected retirement annual income of ${income_retirement_20_50perc}. Which is bigger than the projected ${income_retirement_20}\")"
   ]
  },
  {
   "cell_type": "markdown",
   "metadata": {},
   "source": [
    "### Optional Challenge\n",
    "\n",
    "In this section, you will calculate and plot the cumulative returns for the median and 90% confidence intervals. This plot shows the expected cumulative returns for any given day between the first day and the last day of investment. "
   ]
  },
  {
   "cell_type": "code",
   "execution_count": 151,
   "metadata": {},
   "outputs": [],
   "source": [
    "cu_ret_5_df = pd.Series()\n",
    "cu_ret_50_df = pd.Series()\n",
    "cu_ret_95_df = pd.Series()\n",
    "cu_ret_5_l = []\n",
    "cu_ret_50_l = []\n",
    "cu_ret_95_l = []\n",
    "for num in range(0,7560):\n",
    "    ecu = portfolio_cumulative_returns.iloc[num]\n",
    "    cu_ret_5 = ecu.quantile(q=0.05)\n",
    "    cu_ret_50 = ecu.quantile(q=0.5)\n",
    "    cu_ret_95 = ecu.quantile(q=0.95)\n",
    "    cu_ret_5_l.append(cu_ret_5)\n",
    "    cu_ret_50_l.append(cu_ret_50)\n",
    "    cu_ret_95_l.append(cu_ret_95)\n",
    "    cu_ret_5_df=pd.DataFrame(cu_ret_5_l,columns=['5th'])\n",
    "    cu_ret_50_df=pd.DataFrame(cu_ret_50_l,columns=['50th'])\n",
    "    cu_ret_95_df=pd.DataFrame(cu_ret_95_l,columns=['95th'])"
   ]
  },
  {
   "cell_type": "code",
   "execution_count": 152,
   "metadata": {},
   "outputs": [],
   "source": [
    "challenge_df = pd.concat([cu_ret_5_df, cu_ret_50_df,cu_ret_95_df],sort=False)"
   ]
  },
  {
   "cell_type": "code",
   "execution_count": 153,
   "metadata": {},
   "outputs": [
    {
     "data": {
      "text/plain": [
       "<matplotlib.axes._subplots.AxesSubplot at 0x11e65a0b8>"
      ]
     },
     "execution_count": 153,
     "metadata": {},
     "output_type": "execute_result"
    },
    {
     "data": {
      "image/png": "[encoded data removed]",
      "text/plain": [
       "<Figure size 432x288 with 1 Axes>"
      ]
     },
     "metadata": {
      "needs_background": "light"
     },
     "output_type": "display_data"
    }
   ],
   "source": [
    "challenge_df.plot()"
   ]
  },
  {
   "cell_type": "code",
   "execution_count": null,
   "metadata": {},
   "outputs": [],
   "source": []
  }
 ],
 "metadata": {
  "kernel_info": {
   "name": "dev"
  },
  "kernelspec": {
   "display_name": "Python 3",
   "language": "python",
   "name": "python3"
  },
  "language_info": {
   "codemirror_mode": {
    "name": "ipython",
    "version": 3
   },
   "file_extension": ".py",
   "mimetype": "text/x-python",
   "name": "python",
   "nbconvert_exporter": "python",
   "pygments_lexer": "ipython3",
   "version": "3.7.3"
  },
  "nteract": {
   "version": "0.12.3"
  }
 },
 "nbformat": 4,
 "nbformat_minor": 4
}
